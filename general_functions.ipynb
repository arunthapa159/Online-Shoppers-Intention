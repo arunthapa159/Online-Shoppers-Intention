{
 "cells": [
  {
   "cell_type": "code",
   "execution_count": null,
   "metadata": {},
   "outputs": [],
   "source": [
    "import pandas as pd\n",
    "from sklearn.preprocessing import LabelEncoder, OneHotEncoder, StandardScaler\n",
    "\n",
    "def month_converter(month):\n",
    "    months = ['Jan', 'Feb', 'Mar', 'Apr', 'May', 'June', 'Jul', 'Aug', 'Sep', 'Oct', 'Nov', 'Dec']\n",
    "    return int(months.index(month) + 1)\n",
    "\n",
    "def convert_specialdays_into_binary(column_value):\n",
    "    if float(column_value) == 0.0:\n",
    "        return False\n",
    "    else:\n",
    "        return True\n",
    "\n",
    "\n",
    "def label_encoder_apply(column_value):\n",
    "    labelencoder = LabelEncoder()      \n",
    "    return labelencoder.fit_transform(column_value)\n",
    "\n",
    "# convert the given values to binary encoding and return the dataframe\n",
    "def label_encoder_applytoall(df, column_name :list):\n",
    "    for name in column_name:\n",
    "        df[[name]] = df[[name]].apply(lambda x: label_encoder_apply(x)) \n",
    "    return df\n",
    "\n",
    "\n",
    "def hotencoding_initial(dataframe, column_name):\n",
    "    onehotencoder = OneHotEncoder()\n",
    "    if type(column_name) is list: \n",
    "        for name in column_name:\n",
    "            dataframe = apply_hotencoding(onehotencoder, dataframe, name)     \n",
    "            \n",
    "    elif type(column_name) is str:\n",
    "        dataframe = apply_hotencoding(onehotencoder, dataframe, column_name)           \n",
    "    return dataframe\n",
    "\n",
    "def apply_hotencoding(encodedobj, dataframe, name):\n",
    "    onehotencoded = pd.DataFrame(encodedobj.fit_transform(dataframe[[name]]).toarray(), \n",
    "                             columns=encodedobj.get_feature_names([name]))\n",
    "\n",
    "    dataframe = dataframe.drop(columns=name)\n",
    "    dataframe = dataframe.join(onehotencoded)\n",
    "    return dataframe\n"
   ]
  },
  {
   "cell_type": "code",
   "execution_count": null,
   "metadata": {},
   "outputs": [],
   "source": []
  }
 ],
 "metadata": {
  "kernelspec": {
   "display_name": "Python 3",
   "language": "python",
   "name": "python3"
  },
  "language_info": {
   "codemirror_mode": {
    "name": "ipython",
    "version": 3
   },
   "file_extension": ".py",
   "mimetype": "text/x-python",
   "name": "python",
   "nbconvert_exporter": "python",
   "pygments_lexer": "ipython3",
   "version": "3.7.4"
  }
 },
 "nbformat": 4,
 "nbformat_minor": 2
}
