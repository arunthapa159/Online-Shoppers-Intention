{
 "cells": [
  {
   "cell_type": "code",
   "execution_count": 1,
   "metadata": {},
   "outputs": [],
   "source": [
    "##GENERIC FEATURE SELECTION METHOD\n",
    "##REFERENCE - https://towardsdatascience.com/feature-selection-with-pandas-e3690ad8504b\n",
    "import pandas as pd\n",
    "#Feature importance is an inbuilt class that comes with Tree Based Classifiers, \n",
    "#we will be using Extra Tree Classifier for extracting the top k features for the dataset.\n",
    "def plot_kimportant_features_ExtraTrees(X_train,y_train,k): \n",
    "    from sklearn.ensemble import ExtraTreesClassifier\n",
    "    model = ExtraTreesClassifier()\n",
    "    model.fit(X_train,y_train)\n",
    "    feature_importances = pd.Series(model.feature_importances_, index=X_train.columns)\n",
    "    feature_importances.nlargest(k).plot(kind='barh')\n",
    "    plt.show()\n",
    "    \n",
    "def get_kimportant_features_ExtraTrees(X_train,y_train,k): \n",
    "    try:\n",
    "        from sklearn.ensemble import ExtraTreesClassifier\n",
    "        model = ExtraTreesClassifier()\n",
    "        model.fit(X_train,y_train)\n",
    "        feature_importances = pd.Series(model.feature_importances_, index=X_train.columns)\n",
    "        return feature_importances.nlargest(k)\n",
    "    except IndexError:\n",
    "        print(\"IndexError\")\n",
    "        \n",
    "def get_dataset_kimportantfeatures_ExtraTrees(X_train, y_train, k):\n",
    "    k_important_features = get_kimportant_features_ExtraTrees(X_train,y_train,k)\n",
    "    return X_train[k_important_features.index.values]\n",
    "\n",
    "\n",
    "#Recursive Feature Elimination needs to be implemented individually for each model as it eliminates features based on\n",
    "#individual models\n",
    "#Please check the skleaern documentation for the same and implement them to check if your model performs better or worse with\n",
    "#less number of features..\n",
    "#Check this URL for reference - https://machinelearningmastery.com/feature-selection-in-python-with-scikit-learn/"
   ]
  },
  {
   "cell_type": "code",
   "execution_count": null,
   "metadata": {},
   "outputs": [],
   "source": []
  }
 ],
 "metadata": {
  "kernelspec": {
   "display_name": "Python 3",
   "language": "python",
   "name": "python3"
  },
  "language_info": {
   "codemirror_mode": {
    "name": "ipython",
    "version": 3
   },
   "file_extension": ".py",
   "mimetype": "text/x-python",
   "name": "python",
   "nbconvert_exporter": "python",
   "pygments_lexer": "ipython3",
   "version": "3.7.4-final"
  }
 },
 "nbformat": 4,
 "nbformat_minor": 4
}