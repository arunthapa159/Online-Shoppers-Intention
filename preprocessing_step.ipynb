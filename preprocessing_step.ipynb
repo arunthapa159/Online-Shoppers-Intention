{
 "cells": [
  {
   "cell_type": "code",
   "execution_count": null,
   "metadata": {},
   "outputs": [],
   "source": [
    "import pandas as pd\n",
    "import ipynb.fs.full.general_functions as gf\n",
    "from sklearn.preprocessing import StandardScaler, MinMaxScaler"
   ]
  },
  {
   "cell_type": "code",
   "execution_count": null,
   "metadata": {},
   "outputs": [],
   "source": [
    "# this method will apply all the necessary preprocess steps.\n",
    "# note that this method will also scale month column.\n",
    "# TODO SineWaves.\n",
    "def get_preprocessed_dataset():\n",
    "    \n",
    "    hotencoding_var = ['VisitorType', 'Weekend']\n",
    "    lst_columnsnames = ['Weekend', 'Revenue', 'VisitorType', 'SpecialDay']  \n",
    "    dataframe = pd.read_csv('online_shoppers_intention.csv')\n",
    "    \n",
    "    dataframe['SpecialDay'] = dataframe['SpecialDay'].apply(lambda x: gf.convert_specialdays_into_binary(x)) \n",
    "    dataframe['Month'] = dataframe['Month'].apply(lambda x: gf.month_converter(x))    \n",
    "    dataframe = gf.label_encoder_applytoall(dataframe, lst_columnsnames)\n",
    "    dataframe = gf.hotencoding_initial(dataframe, hotencoding_var)\n",
    "    \n",
    "    \n",
    "    col_x = list(dataframe.columns)\n",
    "    col_x.remove('Revenue')\n",
    "    \n",
    "    sc_X = StandardScaler()\n",
    "    scaled_df = sc_X.fit_transform(dataframe[col_x])\n",
    "    dataframe_x = pd.DataFrame(scaled_df, index=dataframe[col_x].index, columns=col_x)\n",
    "    \n",
    "    dataframe[col_x] = dataframe_x\n",
    "    dataframe = dataframe.sort_values(['Month'], ascending=True) \n",
    "    return dataframe"
   ]
  },
  {
   "cell_type": "code",
   "execution_count": null,
   "metadata": {},
   "outputs": [],
   "source": []
  }
 ],
 "metadata": {
  "kernelspec": {
   "display_name": "Python 3",
   "language": "python",
   "name": "python3"
  },
  "language_info": {
   "codemirror_mode": {
    "name": "ipython",
    "version": 3
   },
   "file_extension": ".py",
   "mimetype": "text/x-python",
   "name": "python",
   "nbconvert_exporter": "python",
   "pygments_lexer": "ipython3",
   "version": "3.7.4"
  }
 },
 "nbformat": 4,
 "nbformat_minor": 2
}
