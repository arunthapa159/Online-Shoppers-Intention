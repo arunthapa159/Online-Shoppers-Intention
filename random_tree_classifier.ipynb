{
 "nbformat": 4,
 "nbformat_minor": 2,
 "metadata": {
  "language_info": {
   "name": "python",
   "codemirror_mode": {
    "name": "ipython",
    "version": 3
   },
   "version": "3.7.4-final"
  },
  "orig_nbformat": 2,
  "file_extension": ".py",
  "mimetype": "text/x-python",
  "name": "python",
  "npconvert_exporter": "python",
  "pygments_lexer": "ipython3",
  "version": 3,
  "kernelspec": {
   "name": "python37432bit1a16247d2f7b4fa58033dbaf0317d543",
   "display_name": "Python 3.7.4 32-bit"
  }
 },
 "cells": [
  {
   "cell_type": "markdown",
   "execution_count": null,
   "metadata": {},
   "outputs": [],
   "source": [
    "## Import libraries"
   ]
  },
  {
   "cell_type": "code",
   "execution_count": 1,
   "metadata": {},
   "outputs": [],
   "source": [
    "import pandas as pd\n",
    "import numpy as numpy\n",
    "import matplotlib.pyplot as plt\n",
    "from sklearn.model_selection import cross_val_score, StratifiedKFold, GridSearchCV\n",
    "from ipynb.fs.full.preprocessing_step import get_preprocessed_dataset\n",
    "from ipynb.fs.full.generic_feature_selection_extratrees import get_dataset_kimportantfeatures_ExtraTrees\n",
    "from sklearn.ensemble import RandomForestClassifier\n",
    "\n",
    "#Accuracy\n",
    "from sklearn import metrics"
   ]
  },
  {
   "cell_type": "code",
   "execution_count": 2,
   "metadata": {},
   "outputs": [],
   "source": [
    "shoppers_dataset = get_preprocessed_dataset()\n",
    "shop_data_copy = shoppers_dataset.copy()\n",
    "x_data = shoppers_dataset.drop(columns=['Revenue'])\n",
    "y_data = shoppers_dataset[['Revenue']]"
   ]
  },
  {
   "cell_type": "code",
   "execution_count": 3,
   "metadata": {},
   "outputs": [
    {
     "data": {
      "text/plain": "Administrative             12330\nAdministrative_Duration    12330\nInformational              12330\nInformational_Duration     12330\nProductRelated             12330\nProductRelated_Duration    12330\nBounceRates                12330\nExitRates                  12330\nPageValues                 12330\nSpecialDay                 12330\nMonth                      12330\nOperatingSystems           12330\nBrowser                    12330\nRegion                     12330\nTrafficType                12330\nRevenue                    12330\nVisitorType_0              12330\nVisitorType_1              12330\nVisitorType_2              12330\nWeekend_0                  12330\nWeekend_1                  12330\ndtype: int64"
     },
     "metadata": {},
     "output_type": "display_data"
    }
   ],
   "source": [
    "display(shoppers_dataset.count())"
   ]
  },
  {
   "cell_type": "markdown",
   "execution_count": null,
   "metadata": {},
   "outputs": [],
   "source": [
    "## Applying Model\n"
   ]
  },
  {
   "cell_type": "code",
   "execution_count": 4,
   "metadata": {},
   "outputs": [],
   "source": [
    "rf = RandomForestClassifier(random_state=42)"
   ]
  },
  {
   "cell_type": "code",
   "execution_count": null,
   "metadata": {},
   "outputs": [],
   "source": [
    "cross_val = StratifiedKFold(n_splits=10, shuffle=True, random_state=42)\n",
    "accuracy_iris = cross_val_score(rf, x_data, y_data, cv=cross_val, scoring='f1')\n",
    "display(accuracy_iris.mean())"
   ]
  },
  {
   "cell_type": "markdown",
   "execution_count": null,
   "metadata": {},
   "outputs": [],
   "source": [
    "## Grid Search using all features"
   ]
  },
  {
   "cell_type": "code",
   "execution_count": null,
   "metadata": {},
   "outputs": [],
   "source": [
    "param_grid = {'n_estimators': [10,20,30,40,50,60],  \n",
    "              'criterion': ['entropy', 'gini'],\n",
    "              'max_depth': [10,20,30,40],\n",
    "              'min_samples_leaf': [2,3],\n",
    "              'max_features': ['float', 'sqrt', 'log2'],\n",
    "              'warm_start' : [True]} \n",
    "\n",
    "founded_parameters = {'criterion': 'gini',\n",
    " 'max_depth': 20,\n",
    " 'max_features': 'sqrt',\n",
    " 'min_samples_leaf': 2,\n",
    " 'n_estimators': 50,\n",
    " 'warm_start': True,\n",
    " 'verbose':True}\n",
    "\n",
    "strat_10_fold_cv = StratifiedKFold(n_splits=5, shuffle=True, random_state=42)\n",
    "grid_search_estimator = GridSearchCV(rf, param_grid, scoring='f1', cv=strat_10_fold_cv, return_train_score=False)\n",
    "nested_cv_score = cross_val_score(grid_search_estimator, x_data, y_data, cv=5, scoring='f1')\n",
    "display(nested_cv_score.mean())\n",
    "grid_search_estimator.fit(x_data, y_data)\n",
    "display(grid_search_estimator.best_params_)"
   ]
  },
  {
   "cell_type": "code",
   "execution_count": 5,
   "metadata": {},
   "outputs": [],
   "source": [
    "important_features = get_dataset_kimportantfeatures_ExtraTrees(x_data,y_data, 10)"
   ]
  },
  {
   "cell_type": "code",
   "execution_count": 6,
   "metadata": {},
   "outputs": [
    {
     "data": {
      "text/html": "<div>\n<style scoped>\n    .dataframe tbody tr th:only-of-type {\n        vertical-align: middle;\n    }\n\n    .dataframe tbody tr th {\n        vertical-align: top;\n    }\n\n    .dataframe thead th {\n        text-align: right;\n    }\n</style>\n<table border=\"1\" class=\"dataframe\">\n  <thead>\n    <tr style=\"text-align: right;\">\n      <th></th>\n      <th>PageValues</th>\n      <th>ExitRates</th>\n      <th>ProductRelated_Duration</th>\n      <th>ProductRelated</th>\n      <th>BounceRates</th>\n      <th>Administrative</th>\n      <th>Month</th>\n      <th>Administrative_Duration</th>\n      <th>TrafficType</th>\n      <th>Region</th>\n    </tr>\n  </thead>\n  <tbody>\n    <tr>\n      <th>0</th>\n      <td>-0.317178</td>\n      <td>3.229316</td>\n      <td>-0.624348</td>\n      <td>-0.691003</td>\n      <td>3.667189</td>\n      <td>-0.696993</td>\n      <td>-1.665924</td>\n      <td>-0.457191</td>\n      <td>-0.762629</td>\n      <td>-0.894178</td>\n    </tr>\n    <tr>\n      <th>117</th>\n      <td>-0.317178</td>\n      <td>-0.325141</td>\n      <td>-0.322820</td>\n      <td>-0.466151</td>\n      <td>-0.082695</td>\n      <td>-0.696993</td>\n      <td>-1.665924</td>\n      <td>-0.457191</td>\n      <td>-0.762629</td>\n      <td>-0.061364</td>\n    </tr>\n    <tr>\n      <th>118</th>\n      <td>-0.317178</td>\n      <td>0.657012</td>\n      <td>-0.574703</td>\n      <td>-0.533607</td>\n      <td>-0.457683</td>\n      <td>-0.696993</td>\n      <td>-1.665924</td>\n      <td>-0.457191</td>\n      <td>-0.265735</td>\n      <td>-0.061364</td>\n    </tr>\n    <tr>\n      <th>119</th>\n      <td>-0.317178</td>\n      <td>1.400122</td>\n      <td>-0.466790</td>\n      <td>-0.578577</td>\n      <td>-0.457683</td>\n      <td>-0.696993</td>\n      <td>-1.665924</td>\n      <td>-0.457191</td>\n      <td>-0.265735</td>\n      <td>2.437081</td>\n    </tr>\n    <tr>\n      <th>120</th>\n      <td>-0.317178</td>\n      <td>-0.200423</td>\n      <td>-0.497361</td>\n      <td>-0.578577</td>\n      <td>-0.457683</td>\n      <td>-0.696993</td>\n      <td>-1.665924</td>\n      <td>-0.457191</td>\n      <td>-0.762629</td>\n      <td>0.355044</td>\n    </tr>\n    <tr>\n      <th>...</th>\n      <td>...</td>\n      <td>...</td>\n      <td>...</td>\n      <td>...</td>\n      <td>...</td>\n      <td>...</td>\n      <td>...</td>\n      <td>...</td>\n      <td>...</td>\n      <td>...</td>\n    </tr>\n    <tr>\n      <th>8394</th>\n      <td>-0.317178</td>\n      <td>-0.004438</td>\n      <td>-0.521400</td>\n      <td>-0.556092</td>\n      <td>-0.457683</td>\n      <td>-0.696993</td>\n      <td>1.281578</td>\n      <td>-0.457191</td>\n      <td>-0.514182</td>\n      <td>-0.061364</td>\n    </tr>\n    <tr>\n      <th>11001</th>\n      <td>-0.009351</td>\n      <td>-0.022213</td>\n      <td>0.338861</td>\n      <td>0.613138</td>\n      <td>-0.160982</td>\n      <td>0.206173</td>\n      <td>1.281578</td>\n      <td>0.150533</td>\n      <td>0.728052</td>\n      <td>1.604266</td>\n    </tr>\n    <tr>\n      <th>11000</th>\n      <td>-0.317178</td>\n      <td>-0.229821</td>\n      <td>-0.106212</td>\n      <td>0.095979</td>\n      <td>-0.163049</td>\n      <td>-0.395938</td>\n      <td>1.281578</td>\n      <td>-0.411935</td>\n      <td>-0.514182</td>\n      <td>2.020674</td>\n    </tr>\n    <tr>\n      <th>11013</th>\n      <td>1.560095</td>\n      <td>-0.639288</td>\n      <td>1.243069</td>\n      <td>0.343316</td>\n      <td>-0.379855</td>\n      <td>-0.094882</td>\n      <td>1.281578</td>\n      <td>-0.004631</td>\n      <td>-0.762629</td>\n      <td>-0.061364</td>\n    </tr>\n    <tr>\n      <th>9017</th>\n      <td>-0.317178</td>\n      <td>-0.714884</td>\n      <td>0.392327</td>\n      <td>-0.218814</td>\n      <td>-0.457683</td>\n      <td>0.507228</td>\n      <td>1.281578</td>\n      <td>2.722046</td>\n      <td>-0.514182</td>\n      <td>-0.894178</td>\n    </tr>\n  </tbody>\n</table>\n<p>12330 rows × 10 columns</p>\n</div>",
      "text/plain": "       PageValues  ExitRates  ProductRelated_Duration  ProductRelated  \\\n0       -0.317178   3.229316                -0.624348       -0.691003   \n117     -0.317178  -0.325141                -0.322820       -0.466151   \n118     -0.317178   0.657012                -0.574703       -0.533607   \n119     -0.317178   1.400122                -0.466790       -0.578577   \n120     -0.317178  -0.200423                -0.497361       -0.578577   \n...           ...        ...                      ...             ...   \n8394    -0.317178  -0.004438                -0.521400       -0.556092   \n11001   -0.009351  -0.022213                 0.338861        0.613138   \n11000   -0.317178  -0.229821                -0.106212        0.095979   \n11013    1.560095  -0.639288                 1.243069        0.343316   \n9017    -0.317178  -0.714884                 0.392327       -0.218814   \n\n       BounceRates  Administrative     Month  Administrative_Duration  \\\n0         3.667189       -0.696993 -1.665924                -0.457191   \n117      -0.082695       -0.696993 -1.665924                -0.457191   \n118      -0.457683       -0.696993 -1.665924                -0.457191   \n119      -0.457683       -0.696993 -1.665924                -0.457191   \n120      -0.457683       -0.696993 -1.665924                -0.457191   \n...            ...             ...       ...                      ...   \n8394     -0.457683       -0.696993  1.281578                -0.457191   \n11001    -0.160982        0.206173  1.281578                 0.150533   \n11000    -0.163049       -0.395938  1.281578                -0.411935   \n11013    -0.379855       -0.094882  1.281578                -0.004631   \n9017     -0.457683        0.507228  1.281578                 2.722046   \n\n       TrafficType    Region  \n0        -0.762629 -0.894178  \n117      -0.762629 -0.061364  \n118      -0.265735 -0.061364  \n119      -0.265735  2.437081  \n120      -0.762629  0.355044  \n...            ...       ...  \n8394     -0.514182 -0.061364  \n11001     0.728052  1.604266  \n11000    -0.514182  2.020674  \n11013    -0.762629 -0.061364  \n9017     -0.514182 -0.894178  \n\n[12330 rows x 10 columns]"
     },
     "metadata": {},
     "output_type": "display_data"
    }
   ],
   "source": [
    "display(important_features)"
   ]
  },
  {
   "cell_type": "markdown",
   "metadata": {},
   "source": [
    "## Using hyperparameter tuning"
   ]
  },
  {
   "cell_type": "code",
   "execution_count": 9,
   "metadata": {},
   "outputs": [
    {
     "name": "stderr",
     "output_type": "stream",
     "text": "[Parallel(n_jobs=1)]: Using backend SequentialBackend with 1 concurrent workers.\n[Parallel(n_jobs=1)]: Done  50 out of  50 | elapsed:    0.7s finished\n[Parallel(n_jobs=1)]: Using backend SequentialBackend with 1 concurrent workers.\n[Parallel(n_jobs=1)]: Done  50 out of  50 | elapsed:    0.0s finished\n[Parallel(n_jobs=1)]: Using backend SequentialBackend with 1 concurrent workers.\n[Parallel(n_jobs=1)]: Done  50 out of  50 | elapsed:    0.7s finished\n[Parallel(n_jobs=1)]: Using backend SequentialBackend with 1 concurrent workers.\n[Parallel(n_jobs=1)]: Done  50 out of  50 | elapsed:    0.0s finished\n[Parallel(n_jobs=1)]: Using backend SequentialBackend with 1 concurrent workers.\n[Parallel(n_jobs=1)]: Done  50 out of  50 | elapsed:    0.6s finished\n[Parallel(n_jobs=1)]: Using backend SequentialBackend with 1 concurrent workers.\n[Parallel(n_jobs=1)]: Done  50 out of  50 | elapsed:    0.0s finished\n[Parallel(n_jobs=1)]: Using backend SequentialBackend with 1 concurrent workers.\n[Parallel(n_jobs=1)]: Done  50 out of  50 | elapsed:    0.6s finished\n[Parallel(n_jobs=1)]: Using backend SequentialBackend with 1 concurrent workers.\n[Parallel(n_jobs=1)]: Done  50 out of  50 | elapsed:    0.0s finished\n[Parallel(n_jobs=1)]: Using backend SequentialBackend with 1 concurrent workers.\n[Parallel(n_jobs=1)]: Done  50 out of  50 | elapsed:    0.6s finished\n[Parallel(n_jobs=1)]: Using backend SequentialBackend with 1 concurrent workers.\n[Parallel(n_jobs=1)]: Done  50 out of  50 | elapsed:    0.0s finished\n[Parallel(n_jobs=1)]: Using backend SequentialBackend with 1 concurrent workers.\n[Parallel(n_jobs=1)]: Done  50 out of  50 | elapsed:    0.6s finished\n[Parallel(n_jobs=1)]: Using backend SequentialBackend with 1 concurrent workers.\n[Parallel(n_jobs=1)]: Done  50 out of  50 | elapsed:    0.0s finished\n[Parallel(n_jobs=1)]: Using backend SequentialBackend with 1 concurrent workers.\n[Parallel(n_jobs=1)]: Done  50 out of  50 | elapsed:    0.6s finished\n[Parallel(n_jobs=1)]: Using backend SequentialBackend with 1 concurrent workers.\n[Parallel(n_jobs=1)]: Done  50 out of  50 | elapsed:    0.0s finished\n[Parallel(n_jobs=1)]: Using backend SequentialBackend with 1 concurrent workers.\n[Parallel(n_jobs=1)]: Done  50 out of  50 | elapsed:    0.7s finished\n[Parallel(n_jobs=1)]: Using backend SequentialBackend with 1 concurrent workers.\n[Parallel(n_jobs=1)]: Done  50 out of  50 | elapsed:    0.0s finished\n[Parallel(n_jobs=1)]: Using backend SequentialBackend with 1 concurrent workers.\n[Parallel(n_jobs=1)]: Done  50 out of  50 | elapsed:    0.6s finished\n[Parallel(n_jobs=1)]: Using backend SequentialBackend with 1 concurrent workers.\n[Parallel(n_jobs=1)]: Done  50 out of  50 | elapsed:    0.0s finished\n[Parallel(n_jobs=1)]: Using backend SequentialBackend with 1 concurrent workers.\n[Parallel(n_jobs=1)]: Done  50 out of  50 | elapsed:    0.6s finished\n[Parallel(n_jobs=1)]: Using backend SequentialBackend with 1 concurrent workers.\n[Parallel(n_jobs=1)]: Done  50 out of  50 | elapsed:    0.0s finished\n"
    },
    {
     "data": {
      "text/plain": "0.6514132096953773"
     },
     "metadata": {},
     "output_type": "display_data"
    }
   ],
   "source": [
    "rf = RandomForestClassifier(criterion='entropy', \n",
    "                            n_estimators=50, \n",
    "                            max_depth=20, \n",
    "                            max_features='sqrt', \n",
    "                            min_samples_leaf=2,\n",
    "                            warm_start=True,\n",
    "                            verbose=True,\n",
    "                            random_state=42)\n",
    "\n",
    "cross_val = StratifiedKFold(n_splits=10, shuffle=True, random_state=42)\n",
    "accuracy_iris = cross_val_score(rf, x_data, y_data, cv=cross_val, scoring='f1')\n",
    "display(accuracy_iris.mean())"
   ]
  },
  {
   "cell_type": "code",
   "execution_count": null,
   "metadata": {},
   "outputs": [],
   "source": []
  },
  {
   "cell_type": "code",
   "execution_count": null,
   "metadata": {},
   "outputs": [],
   "source": []
  },
  {
   "cell_type": "code",
   "execution_count": null,
   "metadata": {},
   "outputs": [],
   "source": []
  },
  {
   "cell_type": "code",
   "execution_count": null,
   "metadata": {},
   "outputs": [],
   "source": []
  },
  {
   "cell_type": "code",
   "execution_count": null,
   "metadata": {},
   "outputs": [],
   "source": []
  },
  {
   "cell_type": "code",
   "execution_count": null,
   "metadata": {},
   "outputs": [],
   "source": []
  },
  {
   "cell_type": "code",
   "execution_count": null,
   "metadata": {},
   "outputs": [],
   "source": []
  },
  {
   "cell_type": "code",
   "execution_count": null,
   "metadata": {},
   "outputs": [],
   "source": []
  },
  {
   "cell_type": "code",
   "execution_count": null,
   "metadata": {},
   "outputs": [],
   "source": []
  }
 ]
}